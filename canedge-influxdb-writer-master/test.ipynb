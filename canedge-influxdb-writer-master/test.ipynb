{
 "cells": [
  {
   "cell_type": "code",
   "execution_count": 6,
   "metadata": {},
   "outputs": [
    {
     "name": "stdout",
     "output_type": "stream",
     "text": [
      "Requirement already satisfied: aiobotocore==2.1.2 in /home/test/.local/lib/python3.8/site-packages (from -r requirements.txt (line 1)) (2.1.2)\n",
      "Requirement already satisfied: aiohttp==3.8.1 in /home/test/.local/lib/python3.8/site-packages (from -r requirements.txt (line 2)) (3.8.1)\n",
      "Requirement already satisfied: aioitertools==0.10.0 in /home/test/.local/lib/python3.8/site-packages (from -r requirements.txt (line 3)) (0.10.0)\n",
      "Requirement already satisfied: aiosignal==1.2.0 in /home/test/.local/lib/python3.8/site-packages (from -r requirements.txt (line 4)) (1.2.0)\n",
      "Requirement already satisfied: async-timeout==4.0.2 in /home/test/.local/lib/python3.8/site-packages (from -r requirements.txt (line 5)) (4.0.2)\n",
      "Requirement already satisfied: asynctest==0.13.0 in /home/test/.local/lib/python3.8/site-packages (from -r requirements.txt (line 6)) (0.13.0)\n",
      "Requirement already satisfied: attrs==21.4.0 in /home/test/.local/lib/python3.8/site-packages (from -r requirements.txt (line 7)) (21.4.0)\n",
      "Requirement already satisfied: bitstruct==8.13.0 in /home/test/.local/lib/python3.8/site-packages (from -r requirements.txt (line 8)) (8.13.0)\n",
      "Requirement already satisfied: botocore==1.23.24 in /home/test/.local/lib/python3.8/site-packages (from -r requirements.txt (line 9)) (1.23.24)\n",
      "Requirement already satisfied: can-decoder>=0.1.3 in /home/test/.local/lib/python3.8/site-packages (from -r requirements.txt (line 10)) (0.1.3)\n",
      "Requirement already satisfied: canedge-browser>=0.0.8 in /home/test/.local/lib/python3.8/site-packages (from -r requirements.txt (line 11)) (0.0.8)\n",
      "Requirement already satisfied: canmatrix==0.9.1 in /home/test/.local/lib/python3.8/site-packages (from -r requirements.txt (line 12)) (0.9.1)\n",
      "Requirement already satisfied: certifi==2021.10.8 in /home/test/.local/lib/python3.8/site-packages (from -r requirements.txt (line 13)) (2021.10.8)\n",
      "Requirement already satisfied: charset-normalizer==2.0.12 in /home/test/.local/lib/python3.8/site-packages (from -r requirements.txt (line 14)) (2.0.12)\n",
      "Requirement already satisfied: click==8.1.2 in /home/test/.local/lib/python3.8/site-packages (from -r requirements.txt (line 15)) (8.1.2)\n",
      "Requirement already satisfied: colorama==0.4.4 in /home/test/.local/lib/python3.8/site-packages (from -r requirements.txt (line 16)) (0.4.4)\n",
      "Requirement already satisfied: frozenlist==1.3.0 in /home/test/.local/lib/python3.8/site-packages (from -r requirements.txt (line 17)) (1.3.0)\n",
      "Requirement already satisfied: fsspec==2022.2.0 in /home/test/.local/lib/python3.8/site-packages (from -r requirements.txt (line 18)) (2022.2.0)\n",
      "Requirement already satisfied: future==0.18.2 in /usr/lib/python3/dist-packages (from -r requirements.txt (line 19)) (0.18.2)\n",
      "Requirement already satisfied: idna==3.3 in /home/test/.local/lib/python3.8/site-packages (from -r requirements.txt (line 20)) (3.3)\n",
      "Requirement already satisfied: importlib-metadata==4.11.3 in /home/test/.local/lib/python3.8/site-packages (from -r requirements.txt (line 21)) (4.11.3)\n",
      "Requirement already satisfied: influxdb-client==1.27.0 in /home/test/.local/lib/python3.8/site-packages (from -r requirements.txt (line 22)) (1.27.0)\n",
      "Requirement already satisfied: jmespath==0.10.0 in /home/test/.local/lib/python3.8/site-packages (from -r requirements.txt (line 23)) (0.10.0)\n",
      "Requirement already satisfied: mdf-iter>=0.0.7 in /home/test/.local/lib/python3.8/site-packages (from -r requirements.txt (line 24)) (0.0.7)\n",
      "Requirement already satisfied: multidict==6.0.2 in /home/test/.local/lib/python3.8/site-packages (from -r requirements.txt (line 25)) (6.0.2)\n",
      "Requirement already satisfied: numpy==1.21.5 in /home/test/.local/lib/python3.8/site-packages (from -r requirements.txt (line 26)) (1.21.5)\n",
      "Requirement already satisfied: pandas==1.2.4 in /home/test/.local/lib/python3.8/site-packages (from -r requirements.txt (line 27)) (1.2.4)\n",
      "Requirement already satisfied: pathlib2==2.3.7.post1 in /home/test/.local/lib/python3.8/site-packages (from -r requirements.txt (line 28)) (2.3.7.post1)\n",
      "Requirement already satisfied: python-dateutil==2.8.2 in /home/test/.local/lib/python3.8/site-packages (from -r requirements.txt (line 29)) (2.8.2)\n",
      "Requirement already satisfied: pytz==2022.1 in /home/test/.local/lib/python3.8/site-packages (from -r requirements.txt (line 30)) (2022.1)\n",
      "Requirement already satisfied: Rx==3.2.0 in /home/test/.local/lib/python3.8/site-packages (from -r requirements.txt (line 31)) (3.2.0)\n",
      "Requirement already satisfied: s3fs==2022.2.0 in /home/test/.local/lib/python3.8/site-packages (from -r requirements.txt (line 32)) (2022.2.0)\n",
      "Requirement already satisfied: six==1.16.0 in /home/test/.local/lib/python3.8/site-packages (from -r requirements.txt (line 33)) (1.16.0)\n",
      "Requirement already satisfied: typing-extensions==4.1.1 in /home/test/.local/lib/python3.8/site-packages (from -r requirements.txt (line 34)) (4.1.1)\n",
      "Requirement already satisfied: urllib3==1.26.9 in /home/test/.local/lib/python3.8/site-packages (from -r requirements.txt (line 35)) (1.26.9)\n",
      "Requirement already satisfied: wrapt==1.14.0 in /home/test/.local/lib/python3.8/site-packages (from -r requirements.txt (line 36)) (1.14.0)\n",
      "Requirement already satisfied: yarl==1.7.2 in /home/test/.local/lib/python3.8/site-packages (from -r requirements.txt (line 37)) (1.7.2)\n",
      "Requirement already satisfied: zipp==3.8.0 in /home/test/.local/lib/python3.8/site-packages (from -r requirements.txt (line 38)) (3.8.0)\n",
      "Requirement already satisfied: setuptools>=21.0.0 in /home/test/.local/lib/python3.8/site-packages (from influxdb-client==1.27.0->-r requirements.txt (line 22)) (62.6.0)\n"
     ]
    }
   ],
   "source": [
    "!pip install -r requirements.txt"
   ]
  }
 ],
 "metadata": {
  "kernelspec": {
   "display_name": "Python 3.8.10 64-bit",
   "language": "python",
   "name": "python3"
  },
  "language_info": {
   "codemirror_mode": {
    "name": "ipython",
    "version": 3
   },
   "file_extension": ".py",
   "mimetype": "text/x-python",
   "name": "python",
   "nbconvert_exporter": "python",
   "pygments_lexer": "ipython3",
   "version": "3.8.10"
  },
  "orig_nbformat": 4,
  "vscode": {
   "interpreter": {
    "hash": "916dbcbb3f70747c44a77c7bcd40155683ae19c65e1c03b4aa3499c5328201f1"
   }
  }
 },
 "nbformat": 4,
 "nbformat_minor": 2
}
